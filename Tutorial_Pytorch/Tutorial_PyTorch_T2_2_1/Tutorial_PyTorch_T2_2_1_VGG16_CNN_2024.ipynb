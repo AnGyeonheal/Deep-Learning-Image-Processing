{
 "cells": [
  {
   "cell_type": "markdown",
   "metadata": {
    "id": "xRZWfUwWQ1f6"
   },
   "source": [
    "# **DLIP Tutorial - PyTorch**\n",
    "# CIFAR-10 Classification using PyTorch - Part 2\n",
    "Y.-K. Kim\n",
    "(updated 2022. 5. 6) \n",
    "\n",
    "===================\n",
    "\n",
    "The purpose of this tutorial is to learn how to build a simple CNN model for classification of CIFAR-10\n",
    "\n",
    "You must do: **Tutorial_PyTorch_MNIST_MLP**  before this tutorial\n",
    "\n",
    "* Part 1:  Create LeNet5 CNN model and Train/Test with opendataset (CIFAR10)\n",
    "* Part 2-1:  Create a CNN model(VGG-16) \n",
    "* Part 2-2:  Create and Train a CNN model(VGG-16) with opendataset(CIFAR-10)\n",
    "\n",
    "## For CoLab Usage:\n",
    "\n",
    "1. Download this notebook\n",
    "2. Then, open in Colab"
   ]
  },
  {
   "cell_type": "markdown",
   "metadata": {
    "id": "xab0AzXTQ62Y"
   },
   "source": [
    "# Setup Pytorch and Numpy and Device\n"
   ]
  },
  {
   "cell_type": "code",
   "execution_count": 4,
   "metadata": {
    "id": "a9hU4TNgQzAu",
    "ExecuteTime": {
     "end_time": "2024-05-23T14:56:00.829988800Z",
     "start_time": "2024-05-23T14:55:59.446217Z"
    }
   },
   "outputs": [],
   "source": [
    "import torch\n",
    "import torchvision\n",
    "import torchvision.transforms as transforms\n",
    "import numpy as np\n",
    "import torch.nn as nn\n",
    "import torch.nn.functional as F\n",
    "import torch.optim as optim\n",
    "import matplotlib.pyplot as plt"
   ]
  },
  {
   "cell_type": "code",
   "execution_count": 5,
   "metadata": {
    "colab": {
     "base_uri": "https://localhost:8080/"
    },
    "id": "fSlpzBkbSWn9",
    "outputId": "d7884142-101b-4d55-877a-513b1d8b4fb1",
    "ExecuteTime": {
     "end_time": "2024-05-23T14:56:01.571361Z",
     "start_time": "2024-05-23T14:56:01.534339300Z"
    }
   },
   "outputs": [
    {
     "name": "stdout",
     "output_type": "stream",
     "text": [
      "Using cuda device\n",
      "Device name: NVIDIA GeForce RTX 4070\n"
     ]
    }
   ],
   "source": [
    "# Get cpu or gpu device for training.\n",
    "device = \"cuda\" if torch.cuda.is_available() else \"cpu\"\n",
    "\n",
    "print(f\"Using {device} device\")\n",
    "if torch.cuda.is_available(): print(f'Device name: {torch.cuda.get_device_name(0)}') "
   ]
  },
  {
   "cell_type": "markdown",
   "metadata": {
    "id": "85aC7eEvRD2q"
   },
   "source": [
    "# Prepare Datasets: Input and Output"
   ]
  },
  {
   "cell_type": "markdown",
   "metadata": {
    "id": "AIAX4YhwSzac"
   },
   "source": [
    "In Part 3-1, we will not use dataset for training.  \n"
   ]
  },
  {
   "cell_type": "markdown",
   "metadata": {
    "id": "HS-4blG6Ugc5"
   },
   "source": [
    "# (Exercise) Define model - VGG 16\n",
    "\n",
    "create a class that inherits from nn.Module\n",
    "\n",
    "\n",
    "* Define the layers of the network in  __init__ function\n",
    "* Specify Forward network in the **forward function.**"
   ]
  },
  {
   "cell_type": "markdown",
   "metadata": {
    "id": "IdIlH3E2eRs7"
   },
   "source": [
    "\n",
    "![VGG16.png](https://user-images.githubusercontent.com/23421059/167051297-fc0f379e-bba9-484e-b223-10349d256985.png)\n",
    "\n",
    "#### Architecture detailed \n",
    "![](https://user-images.githubusercontent.com/23421059/167063778-2b1458a8-d7dc-4fc0-acd1-ec0ea51c4a8f.png)"
   ]
  },
  {
   "cell_type": "code",
   "execution_count": 41,
   "metadata": {
    "id": "yZvql0nMgPkk",
    "ExecuteTime": {
     "end_time": "2024-05-23T15:17:03.022982300Z",
     "start_time": "2024-05-23T15:17:00.350810800Z"
    }
   },
   "outputs": [
    {
     "name": "stdout",
     "output_type": "stream",
     "text": [
      "VGG16(\n",
      "  (conv_layers): Sequential(\n",
      "    (0): Conv2d(3, 64, kernel_size=(3, 3), stride=(1, 1), padding=(1, 1))\n",
      "    (1): ReLU()\n",
      "    (2): Conv2d(64, 64, kernel_size=(3, 3), stride=(1, 1), padding=(1, 1))\n",
      "    (3): ReLU()\n",
      "    (4): MaxPool2d(kernel_size=2, stride=2, padding=0, dilation=1, ceil_mode=False)\n",
      "    (5): ReLU()\n",
      "    (6): Conv2d(64, 128, kernel_size=(3, 3), stride=(1, 1), padding=(1, 1))\n",
      "    (7): ReLU()\n",
      "    (8): Conv2d(128, 128, kernel_size=(3, 3), stride=(1, 1), padding=(1, 1))\n",
      "    (9): ReLU()\n",
      "    (10): MaxPool2d(kernel_size=2, stride=2, padding=0, dilation=1, ceil_mode=False)\n",
      "    (11): ReLU()\n",
      "    (12): Conv2d(128, 256, kernel_size=(3, 3), stride=(1, 1), padding=(1, 1))\n",
      "    (13): ReLU()\n",
      "    (14): Conv2d(256, 256, kernel_size=(3, 3), stride=(1, 1), padding=(1, 1))\n",
      "    (15): ReLU()\n",
      "    (16): MaxPool2d(kernel_size=2, stride=2, padding=0, dilation=1, ceil_mode=False)\n",
      "    (17): ReLU()\n",
      "    (18): Conv2d(256, 512, kernel_size=(3, 3), stride=(1, 1), padding=(1, 1))\n",
      "    (19): ReLU()\n",
      "    (20): Conv2d(512, 512, kernel_size=(3, 3), stride=(1, 1), padding=(1, 1))\n",
      "    (21): ReLU()\n",
      "    (22): Conv2d(512, 512, kernel_size=(3, 3), stride=(1, 1), padding=(1, 1))\n",
      "    (23): ReLU()\n",
      "    (24): MaxPool2d(kernel_size=2, stride=2, padding=0, dilation=1, ceil_mode=False)\n",
      "    (25): ReLU()\n",
      "    (26): Conv2d(512, 512, kernel_size=(3, 3), stride=(1, 1), padding=(1, 1))\n",
      "    (27): ReLU()\n",
      "    (28): Conv2d(512, 512, kernel_size=(3, 3), stride=(1, 1), padding=(1, 1))\n",
      "    (29): ReLU()\n",
      "    (30): Conv2d(512, 512, kernel_size=(3, 3), stride=(1, 1), padding=(1, 1))\n",
      "    (31): ReLU()\n",
      "    (32): MaxPool2d(kernel_size=2, stride=2, padding=0, dilation=1, ceil_mode=False)\n",
      "    (33): ReLU()\n",
      "  )\n",
      "  (flatten): Flatten(start_dim=1, end_dim=-1)\n",
      "  (fc_layers): Sequential(\n",
      "    (0): Linear(in_features=25088, out_features=25088, bias=True)\n",
      "    (1): ReLU()\n",
      "    (2): Linear(in_features=25088, out_features=4096, bias=True)\n",
      "    (3): ReLU()\n",
      "    (4): Linear(in_features=4096, out_features=1000, bias=True)\n",
      "    (5): Softmax(dim=None)\n",
      "  )\n",
      ")\n"
     ]
    }
   ],
   "source": [
    "#########################################################\n",
    "# [EXERCISE] Create VGG-16 architecture (refer to part1)\n",
    "#########################################################\n",
    "class VGG16(nn.Module):\n",
    "    def __init__(self):\n",
    "        super(VGG16, self).__init__()\n",
    "\n",
    "        self.conv_layers = nn.Sequential(\n",
    "            nn.Conv2d(3, 64, kernel_size=3, padding=1),\n",
    "            nn.ReLU(),\n",
    "            nn.Conv2d(64, 64, kernel_size=3, padding=1),\n",
    "            nn.ReLU(),\n",
    "            nn.MaxPool2d(kernel_size=2, stride=2),\n",
    "            nn.ReLU(),\n",
    "    \n",
    "            nn.Conv2d(64, 128, kernel_size=3, padding=1),\n",
    "            nn.ReLU(),\n",
    "            nn.Conv2d(128, 128, kernel_size=3, padding=1),\n",
    "            nn.ReLU(),\n",
    "            nn.MaxPool2d(kernel_size=2, stride=2),\n",
    "            nn.ReLU(),\n",
    "            \n",
    "            nn.Conv2d(128, 256, kernel_size=3, padding=1),\n",
    "            nn.ReLU(),\n",
    "            nn.Conv2d(256, 256, kernel_size=3, padding=1),\n",
    "            nn.ReLU(),\n",
    "            nn.MaxPool2d(kernel_size=2, stride=2),\n",
    "            nn.ReLU(),        \n",
    "            \n",
    "            nn.Conv2d(256, 512, kernel_size=3, padding=1),\n",
    "            nn.ReLU(),\n",
    "            nn.Conv2d(512, 512, kernel_size=3, padding=1),\n",
    "            nn.ReLU(),\n",
    "            nn.Conv2d(512, 512, kernel_size=3, padding=1),\n",
    "            nn.ReLU(),\n",
    "            nn.MaxPool2d(kernel_size=2, stride=2),\n",
    "            nn.ReLU(),\n",
    "            \n",
    "            nn.Conv2d(512, 512, kernel_size=3, padding=1),\n",
    "            nn.ReLU(),\n",
    "            nn.Conv2d(512, 512, kernel_size=3, padding=1),\n",
    "            nn.ReLU(),\n",
    "            nn.Conv2d(512, 512, kernel_size=3, padding=1),\n",
    "            nn.ReLU(),\n",
    "            nn.MaxPool2d(kernel_size=2, stride=2),\n",
    "            nn.ReLU(),\n",
    "        )\n",
    "\n",
    "        self.flatten = nn.Flatten()\n",
    "        \n",
    "        # Classifier\n",
    "        self.fc_layers = nn.Sequential(\n",
    "            # F13\n",
    "            nn.Linear(7*7*512, 25088),\n",
    "            nn.ReLU(),\n",
    "            # F14\n",
    "            nn.Linear(25088, 4096),\n",
    "            nn.ReLU(),\n",
    "            # OUTPUT\n",
    "            nn.Linear(4096, 1000),\n",
    "            nn.Softmax(),\n",
    "        )\n",
    "\n",
    "    # 위에까진 어떠한 구조로 있는 지 정의\n",
    "\n",
    "    def forward(self, x):\n",
    "        # Feature Extraction\n",
    "        x = self.conv_layers(x)\n",
    "        # Converting multidimensional data to one dimension for FC operation\n",
    "        x = self.flatten(x)\n",
    "        # Classification\n",
    "        model = self.fc_layers(x)\n",
    "        return model\n",
    "\n",
    "\n",
    "model = VGG16().to(device)\n",
    "print(model)"
   ]
  },
  {
   "cell_type": "markdown",
   "metadata": {
    "id": "7SPvx776gUcj"
   },
   "source": [
    "Check your model is valid by **summary()** function\n"
   ]
  },
  {
   "cell_type": "code",
   "execution_count": 42,
   "metadata": {
    "id": "KcNiG096gUAz",
    "ExecuteTime": {
     "end_time": "2024-05-23T15:17:04.990375600Z",
     "start_time": "2024-05-23T15:17:04.970095800Z"
    }
   },
   "outputs": [
    {
     "name": "stdout",
     "output_type": "stream",
     "text": [
      "----------------------------------------------------------------\n",
      "        Layer (type)               Output Shape         Param #\n",
      "================================================================\n",
      "            Conv2d-1         [-1, 64, 224, 244]           1,792\n",
      "              ReLU-2         [-1, 64, 224, 244]               0\n",
      "            Conv2d-3         [-1, 64, 224, 244]          36,928\n",
      "              ReLU-4         [-1, 64, 224, 244]               0\n",
      "         MaxPool2d-5         [-1, 64, 112, 122]               0\n",
      "              ReLU-6         [-1, 64, 112, 122]               0\n",
      "            Conv2d-7        [-1, 128, 112, 122]          73,856\n",
      "              ReLU-8        [-1, 128, 112, 122]               0\n",
      "            Conv2d-9        [-1, 128, 112, 122]         147,584\n",
      "             ReLU-10        [-1, 128, 112, 122]               0\n",
      "        MaxPool2d-11          [-1, 128, 56, 61]               0\n",
      "             ReLU-12          [-1, 128, 56, 61]               0\n",
      "           Conv2d-13          [-1, 256, 56, 61]         295,168\n",
      "             ReLU-14          [-1, 256, 56, 61]               0\n",
      "           Conv2d-15          [-1, 256, 56, 61]         590,080\n",
      "             ReLU-16          [-1, 256, 56, 61]               0\n",
      "        MaxPool2d-17          [-1, 256, 28, 30]               0\n",
      "             ReLU-18          [-1, 256, 28, 30]               0\n",
      "           Conv2d-19          [-1, 512, 28, 30]       1,180,160\n",
      "             ReLU-20          [-1, 512, 28, 30]               0\n",
      "           Conv2d-21          [-1, 512, 28, 30]       2,359,808\n",
      "             ReLU-22          [-1, 512, 28, 30]               0\n",
      "           Conv2d-23          [-1, 512, 28, 30]       2,359,808\n",
      "             ReLU-24          [-1, 512, 28, 30]               0\n",
      "        MaxPool2d-25          [-1, 512, 14, 15]               0\n",
      "             ReLU-26          [-1, 512, 14, 15]               0\n",
      "           Conv2d-27          [-1, 512, 14, 15]       2,359,808\n",
      "             ReLU-28          [-1, 512, 14, 15]               0\n",
      "           Conv2d-29          [-1, 512, 14, 15]       2,359,808\n",
      "             ReLU-30          [-1, 512, 14, 15]               0\n",
      "           Conv2d-31          [-1, 512, 14, 15]       2,359,808\n",
      "             ReLU-32          [-1, 512, 14, 15]               0\n",
      "        MaxPool2d-33            [-1, 512, 7, 7]               0\n",
      "             ReLU-34            [-1, 512, 7, 7]               0\n",
      "          Flatten-35                [-1, 25088]               0\n",
      "           Linear-36                [-1, 25088]     629,432,832\n",
      "             ReLU-37                [-1, 25088]               0\n",
      "           Linear-38                 [-1, 4096]     102,764,544\n",
      "             ReLU-39                 [-1, 4096]               0\n",
      "           Linear-40                 [-1, 1000]       4,097,000\n",
      "          Softmax-41                 [-1, 1000]               0\n",
      "================================================================\n",
      "Total params: 750,418,984\n",
      "Trainable params: 750,418,984\n",
      "Non-trainable params: 0\n",
      "----------------------------------------------------------------\n",
      "Input size (MB): 0.63\n",
      "Forward/backward pass size (MB): 237.39\n",
      "Params size (MB): 2862.62\n",
      "Estimated Total Size (MB): 3100.64\n",
      "----------------------------------------------------------------\n"
     ]
    }
   ],
   "source": [
    "from torchsummary import summary\n",
    "summary(model, (3, 224, 244))"
   ]
  }
 ],
 "metadata": {
  "colab": {
   "collapsed_sections": [],
   "include_colab_link": true,
   "name": "Tutorial_PyTorch_VGG16_CNN_Part3_1.ipynb",
   "provenance": []
  },
  "kernelspec": {
   "name": "python3",
   "language": "python",
   "display_name": "Python 3 (ipykernel)"
  },
  "language_info": {
   "name": "python"
  }
 },
 "nbformat": 4,
 "nbformat_minor": 0
}
